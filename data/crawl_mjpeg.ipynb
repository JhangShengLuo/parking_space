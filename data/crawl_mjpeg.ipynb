{
 "cells": [
  {
   "cell_type": "code",
   "execution_count": 1,
   "metadata": {
    "ExecuteTime": {
     "end_time": "2020-05-01T01:39:01.737483Z",
     "start_time": "2020-05-01T01:38:58.566139Z"
    }
   },
   "outputs": [],
   "source": [
    "import cv2\n",
    "import numpy as np\n",
    "import datetime\n",
    "import time\n",
    "import requests\n",
    "\n",
    "url = 'https://www.eocemis.gov.taipei/cctv/3f13ca71/'\n"
   ]
  },
  {
   "cell_type": "markdown",
   "metadata": {},
   "source": [
    "ref:\n",
    "    https://blog.csdn.net/qq_34877350/article/details/89415672\n",
    "        https://www.quotinue.com/how-to-view-mjpeg-streams-with-opencv-and-python/"
   ]
  },
  {
   "cell_type": "code",
   "execution_count": 2,
   "metadata": {
    "ExecuteTime": {
     "end_time": "2020-05-01T01:39:26.141751Z",
     "start_time": "2020-05-01T01:39:01.820119Z"
    },
    "code_folding": []
   },
   "outputs": [],
   "source": [
    "for video in range(5):\n",
    "    res = requests.get(url, stream=True)\n",
    "    cap = cv2.VideoCapture(url)\n",
    "    result, frame = cap.read()\n",
    "    if result:\n",
    "        file_name = str(datetime.datetime.now())\n",
    "        cv2.imwrite('{}.jpg'.format(file_name),frame)\n",
    "        time.sleep(4)\n",
    "        video += 1\n",
    "    else:\n",
    "        print(res.status_code)\n"
   ]
  },
  {
   "cell_type": "code",
   "execution_count": null,
   "metadata": {},
   "outputs": [],
   "source": []
  },
  {
   "cell_type": "code",
   "execution_count": 3,
   "metadata": {
    "ExecuteTime": {
     "end_time": "2020-05-01T01:39:38.995781Z",
     "start_time": "2020-05-01T01:39:36.488682Z"
    }
   },
   "outputs": [
    {
     "name": "stdout",
     "output_type": "stream",
     "text": [
      "0\n",
      "1\n",
      "2\n",
      "3\n",
      "4\n",
      "5\n",
      "6\n",
      "7\n",
      "8\n",
      "9\n"
     ]
    }
   ],
   "source": [
    "cap = cv2.VideoCapture(url)\n",
    "fps = cap.get(5)\n",
    "result, frame = cap.read()\n",
    "fourcc = cv2.VideoWriter_fourcc(*'XVID')\n",
    "out = cv2.VideoWriter('output_white.avi', fourcc, fps, (frame.shape[1], frame.shape[0]), False) \n",
    "video=0\n",
    "# while cap.isOpened():\n",
    "for video in range(10):\n",
    "    _, frame = cap.read()\n",
    "    print(video)\n",
    "    if frame is None:\n",
    "        break\n",
    "#     frame = cv2.cvtColor(frame, cv2.COLOR_BGR2GRAY)\n",
    "#     cv2.imshow(\"222\", frame)\n",
    "    out.write(frame)\n",
    "    if cv2.waitKey(1) & 0xFF == ord(\"q\"):\n",
    "        break\n",
    "    video += 1\n",
    "    \n",
    "    if video == 10:\n",
    "        break\n",
    "cap.release()\n",
    "out.release()\n",
    "\n"
   ]
  },
  {
   "cell_type": "code",
   "execution_count": 4,
   "metadata": {
    "ExecuteTime": {
     "end_time": "2020-05-01T01:39:51.630751Z",
     "start_time": "2020-05-01T01:39:51.595726Z"
    }
   },
   "outputs": [
    {
     "data": {
      "text/plain": [
       "False"
      ]
     },
     "execution_count": 4,
     "metadata": {},
     "output_type": "execute_result"
    }
   ],
   "source": [
    "cap.isOpened()"
   ]
  },
  {
   "cell_type": "code",
   "execution_count": null,
   "metadata": {},
   "outputs": [],
   "source": []
  }
 ],
 "metadata": {
  "kernelspec": {
   "display_name": "Python 3",
   "language": "python",
   "name": "python3"
  },
  "language_info": {
   "codemirror_mode": {
    "name": "ipython",
    "version": 3
   },
   "file_extension": ".py",
   "mimetype": "text/x-python",
   "name": "python",
   "nbconvert_exporter": "python",
   "pygments_lexer": "ipython3",
   "version": "3.6.3"
  },
  "toc": {
   "base_numbering": 1,
   "nav_menu": {},
   "number_sections": true,
   "sideBar": true,
   "skip_h1_title": false,
   "title_cell": "Table of Contents",
   "title_sidebar": "Contents",
   "toc_cell": false,
   "toc_position": {},
   "toc_section_display": true,
   "toc_window_display": false
  }
 },
 "nbformat": 4,
 "nbformat_minor": 2
}
